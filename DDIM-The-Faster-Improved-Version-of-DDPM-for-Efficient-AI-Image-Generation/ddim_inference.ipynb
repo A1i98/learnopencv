{
 "cells": [
  {
   "cell_type": "code",
   "execution_count": null,
   "metadata": {},
   "outputs": [],
   "source": [
    "!pip install -U diffusers\n",
    "!pip install transformers\n",
    "!pip install accelerate\n",
    "!pip install sentencepiece\n",
    "!pip install protobuf"
   ]
  },
  {
   "cell_type": "code",
   "execution_count": null,
   "metadata": {},
   "outputs": [],
   "source": [
    "!huggingface-cli login"
   ]
  },
  {
   "cell_type": "code",
   "execution_count": null,
   "metadata": {},
   "outputs": [],
   "source": [
    "import torch\n",
    "from diffusers import StableDiffusionPipeline, DDIMScheduler\n",
    "import matplotlib.pyplot as plt\n",
    " \n",
    "pipe = StableDiffusionPipeline.from_pretrained(\"CompVis/stable-diffusion-v1-4\", torch_dtype = torch.float16, safety_checker = None)\n",
    "pipe.scheduler = DDIMScheduler.from_config(\n",
    "    pipe.scheduler.config\n",
    ")\n",
    "pipe.to(\"cuda\")\n",
    " \n",
    "torch.manual_seed(1283012) #any random 6 or 7 digit seed will be good\n",
    " \n",
    "image = pipe(\"a cute capybara\").images[0]\n",
    "plt.imshow(image)\n",
    "plt.show()"
   ]
  }
 ],
 "metadata": {
  "language_info": {
   "name": "python"
  }
 },
 "nbformat": 4,
 "nbformat_minor": 2
}
