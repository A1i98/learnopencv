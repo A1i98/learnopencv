{
 "cells": [
  {
   "cell_type": "code",
   "execution_count": 55,
   "metadata": {},
   "outputs": [],
   "source": [
    "import torch\n",
    "import yaml\n",
    "from torchvision import transforms, datasets\n",
    "import torchvision\n",
    "import numpy as np\n",
    "import os\n",
    "from sklearn import preprocessing\n",
    "from torch.utils.data.dataloader import DataLoader"
   ]
  },
  {
   "cell_type": "code",
   "execution_count": 56,
   "metadata": {},
   "outputs": [],
   "source": [
    "#sys.path.append('../')\n",
    "from resnet_base_network import ResNet18"
   ]
  },
  {
   "cell_type": "code",
   "execution_count": 57,
   "metadata": {},
   "outputs": [],
   "source": [
    "batch_size = 512\n",
    "data_transforms = torchvision.transforms.Compose([transforms.ToTensor()])"
   ]
  },
  {
   "cell_type": "code",
   "execution_count": 58,
   "metadata": {},
   "outputs": [],
   "source": [
    "config = yaml.load(open(\"./config.yaml\", \"r\"), Loader=yaml.FullLoader)"
   ]
  },
  {
   "cell_type": "code",
   "execution_count": 60,
   "metadata": {},
   "outputs": [
    {
     "name": "stdout",
     "output_type": "stream",
     "text": [
      "Using downloaded and verified file: ./data/stl10_binary.tar.gz\n",
      "Extracting ./data/stl10_binary.tar.gz to ./data\n"
     ]
    }
   ],
   "source": [
    "train_dataset = datasets.STL10('./data', split='train', download=True,\n",
    "                               transform=data_transforms)\n",
    "\n",
    "test_dataset = datasets.STL10('./data', split='test', download=False,\n",
    "                               transform=data_transforms)"
   ]
  },
  {
   "cell_type": "code",
   "execution_count": 61,
   "metadata": {},
   "outputs": [
    {
     "name": "stdout",
     "output_type": "stream",
     "text": [
      "Input shape: torch.Size([3, 96, 96])\n"
     ]
    }
   ],
   "source": [
    "print(\"Input shape:\", train_dataset[0][0].shape)"
   ]
  },
  {
   "cell_type": "code",
   "execution_count": 62,
   "metadata": {},
   "outputs": [],
   "source": [
    "train_loader = DataLoader(train_dataset, batch_size=batch_size,\n",
    "                          num_workers=0, drop_last=False, shuffle=True)\n",
    "\n",
    "test_loader = DataLoader(test_dataset, batch_size=batch_size,\n",
    "                          num_workers=0, drop_last=False, shuffle=True)"
   ]
  },
  {
   "cell_type": "code",
   "execution_count": 63,
   "metadata": {},
   "outputs": [
    {
     "name": "stderr",
     "output_type": "stream",
     "text": [
      "/home/opencvuniv/miniconda3/envs/torch_241_cu118/lib/python3.10/site-packages/torchvision/models/_utils.py:208: UserWarning: The parameter 'pretrained' is deprecated since 0.13 and may be removed in the future, please use 'weights' instead.\n",
      "  warnings.warn(\n",
      "/home/opencvuniv/miniconda3/envs/torch_241_cu118/lib/python3.10/site-packages/torchvision/models/_utils.py:223: UserWarning: Arguments other than a weight enum or `None` for 'weights' are deprecated since 0.13 and may be removed in the future. The current behavior is equivalent to passing `weights=None`.\n",
      "  warnings.warn(msg)\n"
     ]
    }
   ],
   "source": [
    "device = 'cpu' #'cuda' if torch.cuda.is_available() else 'cpu'\n",
    "encoder = ResNet18(**config['network'])\n",
    "output_feature_dim = encoder.projetion.net[0].in_features"
   ]
  },
  {
   "cell_type": "code",
   "execution_count": 64,
   "metadata": {},
   "outputs": [
    {
     "name": "stderr",
     "output_type": "stream",
     "text": [
      "/tmp/ipykernel_75191/1430623094.py:2: FutureWarning: You are using `torch.load` with `weights_only=False` (the current default value), which uses the default pickle module implicitly. It is possible to construct malicious pickle data which will execute arbitrary code during unpickling (See https://github.com/pytorch/pytorch/blob/main/SECURITY.md#untrusted-models for more details). In a future release, the default value for `weights_only` will be flipped to `True`. This limits the functions that could be executed during unpickling. Arbitrary objects will no longer be allowed to be loaded via this mode unless they are explicitly allowlisted by the user via `torch.serialization.add_safe_globals`. We recommend you start setting `weights_only=True` for any use case where you don't have full control of the loaded file. Please open an issue on GitHub for any issues related to this experimental feature.\n",
      "  load_params = torch.load(os.path.join('./Models/BYOL.pth'),\n"
     ]
    }
   ],
   "source": [
    "#load pre-trained parameters\n",
    "load_params = torch.load(os.path.join('./Models/BYOL.pth'),\n",
    "                         map_location=torch.device(torch.device(device)))\n",
    "\n",
    "if 'online_network_state_dict' in load_params:\n",
    "    encoder.load_state_dict(load_params['online_network_state_dict'])\n",
    "    print(\"Parameters successfully loaded.\")\n",
    "\n",
    "# remove the projection head\n",
    "encoder = torch.nn.Sequential(*list(encoder.children())[:-1])    \n",
    "encoder = encoder.to(device)"
   ]
  },
  {
   "cell_type": "code",
   "execution_count": 65,
   "metadata": {},
   "outputs": [
    {
     "data": {
      "text/plain": [
       "Sequential(\n",
       "  (0): Sequential(\n",
       "    (0): Conv2d(3, 64, kernel_size=(7, 7), stride=(2, 2), padding=(3, 3), bias=False)\n",
       "    (1): BatchNorm2d(64, eps=1e-05, momentum=0.1, affine=True, track_running_stats=True)\n",
       "    (2): ReLU(inplace=True)\n",
       "    (3): MaxPool2d(kernel_size=3, stride=2, padding=1, dilation=1, ceil_mode=False)\n",
       "    (4): Sequential(\n",
       "      (0): BasicBlock(\n",
       "        (conv1): Conv2d(64, 64, kernel_size=(3, 3), stride=(1, 1), padding=(1, 1), bias=False)\n",
       "        (bn1): BatchNorm2d(64, eps=1e-05, momentum=0.1, affine=True, track_running_stats=True)\n",
       "        (relu): ReLU(inplace=True)\n",
       "        (conv2): Conv2d(64, 64, kernel_size=(3, 3), stride=(1, 1), padding=(1, 1), bias=False)\n",
       "        (bn2): BatchNorm2d(64, eps=1e-05, momentum=0.1, affine=True, track_running_stats=True)\n",
       "      )\n",
       "      (1): BasicBlock(\n",
       "        (conv1): Conv2d(64, 64, kernel_size=(3, 3), stride=(1, 1), padding=(1, 1), bias=False)\n",
       "        (bn1): BatchNorm2d(64, eps=1e-05, momentum=0.1, affine=True, track_running_stats=True)\n",
       "        (relu): ReLU(inplace=True)\n",
       "        (conv2): Conv2d(64, 64, kernel_size=(3, 3), stride=(1, 1), padding=(1, 1), bias=False)\n",
       "        (bn2): BatchNorm2d(64, eps=1e-05, momentum=0.1, affine=True, track_running_stats=True)\n",
       "      )\n",
       "    )\n",
       "    (5): Sequential(\n",
       "      (0): BasicBlock(\n",
       "        (conv1): Conv2d(64, 128, kernel_size=(3, 3), stride=(2, 2), padding=(1, 1), bias=False)\n",
       "        (bn1): BatchNorm2d(128, eps=1e-05, momentum=0.1, affine=True, track_running_stats=True)\n",
       "        (relu): ReLU(inplace=True)\n",
       "        (conv2): Conv2d(128, 128, kernel_size=(3, 3), stride=(1, 1), padding=(1, 1), bias=False)\n",
       "        (bn2): BatchNorm2d(128, eps=1e-05, momentum=0.1, affine=True, track_running_stats=True)\n",
       "        (downsample): Sequential(\n",
       "          (0): Conv2d(64, 128, kernel_size=(1, 1), stride=(2, 2), bias=False)\n",
       "          (1): BatchNorm2d(128, eps=1e-05, momentum=0.1, affine=True, track_running_stats=True)\n",
       "        )\n",
       "      )\n",
       "      (1): BasicBlock(\n",
       "        (conv1): Conv2d(128, 128, kernel_size=(3, 3), stride=(1, 1), padding=(1, 1), bias=False)\n",
       "        (bn1): BatchNorm2d(128, eps=1e-05, momentum=0.1, affine=True, track_running_stats=True)\n",
       "        (relu): ReLU(inplace=True)\n",
       "        (conv2): Conv2d(128, 128, kernel_size=(3, 3), stride=(1, 1), padding=(1, 1), bias=False)\n",
       "        (bn2): BatchNorm2d(128, eps=1e-05, momentum=0.1, affine=True, track_running_stats=True)\n",
       "      )\n",
       "    )\n",
       "    (6): Sequential(\n",
       "      (0): BasicBlock(\n",
       "        (conv1): Conv2d(128, 256, kernel_size=(3, 3), stride=(2, 2), padding=(1, 1), bias=False)\n",
       "        (bn1): BatchNorm2d(256, eps=1e-05, momentum=0.1, affine=True, track_running_stats=True)\n",
       "        (relu): ReLU(inplace=True)\n",
       "        (conv2): Conv2d(256, 256, kernel_size=(3, 3), stride=(1, 1), padding=(1, 1), bias=False)\n",
       "        (bn2): BatchNorm2d(256, eps=1e-05, momentum=0.1, affine=True, track_running_stats=True)\n",
       "        (downsample): Sequential(\n",
       "          (0): Conv2d(128, 256, kernel_size=(1, 1), stride=(2, 2), bias=False)\n",
       "          (1): BatchNorm2d(256, eps=1e-05, momentum=0.1, affine=True, track_running_stats=True)\n",
       "        )\n",
       "      )\n",
       "      (1): BasicBlock(\n",
       "        (conv1): Conv2d(256, 256, kernel_size=(3, 3), stride=(1, 1), padding=(1, 1), bias=False)\n",
       "        (bn1): BatchNorm2d(256, eps=1e-05, momentum=0.1, affine=True, track_running_stats=True)\n",
       "        (relu): ReLU(inplace=True)\n",
       "        (conv2): Conv2d(256, 256, kernel_size=(3, 3), stride=(1, 1), padding=(1, 1), bias=False)\n",
       "        (bn2): BatchNorm2d(256, eps=1e-05, momentum=0.1, affine=True, track_running_stats=True)\n",
       "      )\n",
       "    )\n",
       "    (7): Sequential(\n",
       "      (0): BasicBlock(\n",
       "        (conv1): Conv2d(256, 512, kernel_size=(3, 3), stride=(2, 2), padding=(1, 1), bias=False)\n",
       "        (bn1): BatchNorm2d(512, eps=1e-05, momentum=0.1, affine=True, track_running_stats=True)\n",
       "        (relu): ReLU(inplace=True)\n",
       "        (conv2): Conv2d(512, 512, kernel_size=(3, 3), stride=(1, 1), padding=(1, 1), bias=False)\n",
       "        (bn2): BatchNorm2d(512, eps=1e-05, momentum=0.1, affine=True, track_running_stats=True)\n",
       "        (downsample): Sequential(\n",
       "          (0): Conv2d(256, 512, kernel_size=(1, 1), stride=(2, 2), bias=False)\n",
       "          (1): BatchNorm2d(512, eps=1e-05, momentum=0.1, affine=True, track_running_stats=True)\n",
       "        )\n",
       "      )\n",
       "      (1): BasicBlock(\n",
       "        (conv1): Conv2d(512, 512, kernel_size=(3, 3), stride=(1, 1), padding=(1, 1), bias=False)\n",
       "        (bn1): BatchNorm2d(512, eps=1e-05, momentum=0.1, affine=True, track_running_stats=True)\n",
       "        (relu): ReLU(inplace=True)\n",
       "        (conv2): Conv2d(512, 512, kernel_size=(3, 3), stride=(1, 1), padding=(1, 1), bias=False)\n",
       "        (bn2): BatchNorm2d(512, eps=1e-05, momentum=0.1, affine=True, track_running_stats=True)\n",
       "      )\n",
       "    )\n",
       "    (8): AdaptiveAvgPool2d(output_size=(1, 1))\n",
       "  )\n",
       ")"
      ]
     },
     "execution_count": 65,
     "metadata": {},
     "output_type": "execute_result"
    }
   ],
   "source": [
    "encoder"
   ]
  },
  {
   "cell_type": "code",
   "execution_count": 66,
   "metadata": {},
   "outputs": [],
   "source": [
    "class LogisticRegression(torch.nn.Module):\n",
    "    def __init__(self, input_dim, output_dim):\n",
    "        super(LogisticRegression, self).__init__()\n",
    "        self.linear = torch.nn.Linear(input_dim, output_dim)\n",
    "        \n",
    "    def forward(self, x):\n",
    "        return self.linear(x)"
   ]
  },
  {
   "cell_type": "code",
   "execution_count": 67,
   "metadata": {},
   "outputs": [],
   "source": [
    "logreg = LogisticRegression(output_feature_dim, 10)\n",
    "logreg = logreg.to(device)"
   ]
  },
  {
   "cell_type": "code",
   "execution_count": 68,
   "metadata": {},
   "outputs": [],
   "source": [
    "def get_features_from_encoder(encoder, loader):\n",
    "    \n",
    "    x_train = []\n",
    "    y_train = []\n",
    "\n",
    "    # get the features from the pre-trained model\n",
    "    for i, (x, y) in enumerate(loader):\n",
    "        with torch.no_grad():\n",
    "            feature_vector = encoder(x)\n",
    "            x_train.extend(feature_vector)\n",
    "            y_train.extend(y.numpy())\n",
    "\n",
    "            \n",
    "    x_train = torch.stack(x_train)\n",
    "    y_train = torch.tensor(y_train)\n",
    "    return x_train, y_train"
   ]
  },
  {
   "cell_type": "code",
   "execution_count": 69,
   "metadata": {},
   "outputs": [
    {
     "name": "stdout",
     "output_type": "stream",
     "text": [
      "Training data shape: torch.Size([5000, 512]) torch.Size([5000])\n",
      "Testing data shape: torch.Size([8000, 512]) torch.Size([8000])\n"
     ]
    }
   ],
   "source": [
    "encoder.eval()\n",
    "x_train, y_train = get_features_from_encoder(encoder, train_loader)\n",
    "x_test, y_test = get_features_from_encoder(encoder, test_loader)\n",
    "\n",
    "if len(x_train.shape) > 2:\n",
    "    x_train = torch.mean(x_train, dim=[2, 3])\n",
    "    x_test = torch.mean(x_test, dim=[2, 3])\n",
    "    \n",
    "print(\"Training data shape:\", x_train.shape, y_train.shape)\n",
    "print(\"Testing data shape:\", x_test.shape, y_test.shape)"
   ]
  },
  {
   "cell_type": "code",
   "execution_count": 70,
   "metadata": {},
   "outputs": [],
   "source": [
    "def create_data_loaders_from_arrays(X_train, y_train, X_test, y_test):\n",
    "\n",
    "    train = torch.utils.data.TensorDataset(X_train, y_train)\n",
    "    train_loader = torch.utils.data.DataLoader(train, batch_size=64, shuffle=True)\n",
    "\n",
    "    test = torch.utils.data.TensorDataset(X_test, y_test)\n",
    "    test_loader = torch.utils.data.DataLoader(test, batch_size=512, shuffle=False)\n",
    "    return train_loader, test_loader"
   ]
  },
  {
   "cell_type": "code",
   "execution_count": 71,
   "metadata": {},
   "outputs": [],
   "source": [
    "scaler = preprocessing.StandardScaler()\n",
    "scaler.fit(x_train)\n",
    "x_train = scaler.transform(x_train).astype(np.float32)\n",
    "x_test = scaler.transform(x_test).astype(np.float32)"
   ]
  },
  {
   "cell_type": "code",
   "execution_count": 72,
   "metadata": {},
   "outputs": [],
   "source": [
    "train_loader, test_loader = create_data_loaders_from_arrays(torch.from_numpy(x_train), y_train, torch.from_numpy(x_test), y_test)"
   ]
  },
  {
   "cell_type": "code",
   "execution_count": 74,
   "metadata": {},
   "outputs": [
    {
     "name": "stdout",
     "output_type": "stream",
     "text": [
      "Epoch 0, Testing accuracy: 37.16%\n",
      "Epoch 10, Testing accuracy: 37.27%\n",
      "Epoch 20, Testing accuracy: 37.45%\n",
      "Epoch 30, Testing accuracy: 37.67%\n",
      "Epoch 40, Testing accuracy: 37.80%\n",
      "Epoch 50, Testing accuracy: 37.90%\n",
      "Epoch 60, Testing accuracy: 38.01%\n",
      "Epoch 70, Testing accuracy: 38.01%\n",
      "Epoch 80, Testing accuracy: 38.05%\n",
      "Epoch 90, Testing accuracy: 38.21%\n",
      "Epoch 100, Testing accuracy: 38.25%\n",
      "Epoch 110, Testing accuracy: 38.26%\n",
      "Epoch 120, Testing accuracy: 38.40%\n",
      "Epoch 130, Testing accuracy: 38.45%\n",
      "Epoch 140, Testing accuracy: 38.61%\n",
      "Epoch 150, Testing accuracy: 38.81%\n",
      "Epoch 160, Testing accuracy: 38.86%\n",
      "Epoch 170, Testing accuracy: 38.98%\n",
      "Epoch 180, Testing accuracy: 39.04%\n",
      "Epoch 190, Testing accuracy: 39.01%\n",
      "Epoch 200, Testing accuracy: 39.14%\n",
      "Epoch 210, Testing accuracy: 39.25%\n",
      "Epoch 220, Testing accuracy: 39.26%\n",
      "Epoch 230, Testing accuracy: 39.25%\n",
      "Epoch 240, Testing accuracy: 39.49%\n",
      "Epoch 250, Testing accuracy: 39.45%\n",
      "Epoch 260, Testing accuracy: 39.46%\n",
      "Epoch 270, Testing accuracy: 39.58%\n",
      "Epoch 280, Testing accuracy: 39.74%\n",
      "Epoch 290, Testing accuracy: 39.69%\n",
      "Epoch 300, Testing accuracy: 39.88%\n",
      "Epoch 310, Testing accuracy: 39.88%\n",
      "Epoch 320, Testing accuracy: 39.91%\n",
      "Epoch 330, Testing accuracy: 39.83%\n",
      "Epoch 340, Testing accuracy: 39.83%\n",
      "Epoch 350, Testing accuracy: 39.98%\n",
      "Epoch 360, Testing accuracy: 39.99%\n",
      "Epoch 370, Testing accuracy: 39.84%\n",
      "Epoch 380, Testing accuracy: 39.88%\n",
      "Epoch 390, Testing accuracy: 39.90%\n",
      "Epoch 400, Testing accuracy: 40.06%\n",
      "Epoch 410, Testing accuracy: 40.08%\n",
      "Epoch 420, Testing accuracy: 40.06%\n",
      "Epoch 430, Testing accuracy: 40.04%\n",
      "Epoch 440, Testing accuracy: 39.96%\n",
      "Epoch 450, Testing accuracy: 40.05%\n",
      "Epoch 460, Testing accuracy: 40.10%\n",
      "Epoch 470, Testing accuracy: 40.14%\n",
      "Epoch 480, Testing accuracy: 40.19%\n",
      "Epoch 490, Testing accuracy: 40.17%\n"
     ]
    }
   ],
   "source": [
    "optimizer = torch.optim.SGD(logreg.parameters(), lr=3e-4)\n",
    "criterion = torch.nn.CrossEntropyLoss()\n",
    "\n",
    "# optimizer = torch.optim.SGD(logreg.parameters(), lr=0.03, momentum=0.9, weight_decay=1e-4)\n",
    "# scheduler = torch.optim.lr_scheduler.CosineAnnealingLR(optimizer, T_max=200)  # T_max = number of epochs\n",
    "\n",
    "eval_every_n_epochs = 10\n",
    "\n",
    "\n",
    "train_losses = []\n",
    "test_accuracies = []\n",
    "\n",
    "\n",
    "for epoch in range(500):\n",
    "    epoch_loss = 0\n",
    "    logreg.train()\n",
    "#     train_acc = []\n",
    "    for x, y in train_loader:\n",
    "\n",
    "        x = x.to(device)\n",
    "        y = y.to(device)\n",
    "        \n",
    "        # zero the parameter gradients\n",
    "        optimizer.zero_grad()        \n",
    "        \n",
    "        logits = logreg(x)\n",
    "        predictions = torch.argmax(logits, dim=1)\n",
    "        \n",
    "        loss = criterion(logits, y)\n",
    "        \n",
    "        loss.backward()\n",
    "        optimizer.step()\n",
    "\n",
    "        epoch_loss += loss.item()\n",
    "\n",
    "    train_losses.append(epoch_loss / len(train_loader))\n",
    "    \n",
    "    # scheduler.step()\n",
    "    \n",
    "    if epoch % eval_every_n_epochs == 0:\n",
    "        logreg.eval()\n",
    "        correct = 0\n",
    "        total = 0\n",
    "        for x, y in test_loader:\n",
    "            x = x.to(device)\n",
    "            y = y.to(device)\n",
    "\n",
    "            logits = logreg(x)\n",
    "            predictions = torch.argmax(logits, dim=1)\n",
    "            \n",
    "            total += y.size(0)\n",
    "            correct += (predictions == y).sum().item()\n",
    "            \n",
    "        acc = 100 * correct / total\n",
    "        test_accuracies.append(acc)\n",
    "        print(f\"Epoch {epoch}, Testing accuracy: {acc:.2f}%\")\n"
   ]
  },
  {
   "cell_type": "code",
   "execution_count": 75,
   "metadata": {},
   "outputs": [
    {
     "name": "stdout",
     "output_type": "stream",
     "text": [
      "Epoch 0, Testing accuracy: 30.18%\n",
      "Epoch 10, Testing accuracy: 36.44%\n",
      "Epoch 20, Testing accuracy: 38.27%\n",
      "Epoch 30, Testing accuracy: 38.39%\n",
      "Epoch 40, Testing accuracy: 37.02%\n",
      "Epoch 50, Testing accuracy: 37.42%\n",
      "Epoch 60, Testing accuracy: 36.92%\n",
      "Epoch 70, Testing accuracy: 37.62%\n",
      "Epoch 80, Testing accuracy: 37.58%\n",
      "Epoch 90, Testing accuracy: 38.19%\n",
      "Epoch 100, Testing accuracy: 38.04%\n",
      "Epoch 110, Testing accuracy: 37.26%\n",
      "Epoch 120, Testing accuracy: 38.20%\n",
      "Epoch 130, Testing accuracy: 38.20%\n",
      "Epoch 140, Testing accuracy: 38.05%\n",
      "Epoch 150, Testing accuracy: 38.02%\n",
      "Epoch 160, Testing accuracy: 38.31%\n",
      "Epoch 170, Testing accuracy: 38.52%\n",
      "Epoch 180, Testing accuracy: 38.55%\n",
      "Epoch 190, Testing accuracy: 38.55%\n",
      "Epoch 200, Testing accuracy: 38.59%\n",
      "Epoch 210, Testing accuracy: 38.55%\n",
      "Epoch 220, Testing accuracy: 38.41%\n",
      "Epoch 230, Testing accuracy: 38.51%\n",
      "Epoch 240, Testing accuracy: 38.17%\n",
      "Epoch 250, Testing accuracy: 37.98%\n",
      "Epoch 260, Testing accuracy: 38.11%\n",
      "Epoch 270, Testing accuracy: 38.29%\n",
      "Epoch 280, Testing accuracy: 37.86%\n",
      "Epoch 290, Testing accuracy: 37.61%\n",
      "Epoch 300, Testing accuracy: 36.99%\n",
      "Epoch 310, Testing accuracy: 38.11%\n",
      "Epoch 320, Testing accuracy: 36.34%\n",
      "Epoch 330, Testing accuracy: 37.69%\n",
      "Epoch 340, Testing accuracy: 37.51%\n",
      "Epoch 350, Testing accuracy: 37.58%\n",
      "Epoch 360, Testing accuracy: 35.73%\n",
      "Epoch 370, Testing accuracy: 37.81%\n",
      "Epoch 380, Testing accuracy: 36.95%\n",
      "Epoch 390, Testing accuracy: 36.36%\n",
      "Epoch 400, Testing accuracy: 35.85%\n",
      "Epoch 410, Testing accuracy: 37.64%\n",
      "Epoch 420, Testing accuracy: 35.70%\n",
      "Epoch 430, Testing accuracy: 36.31%\n",
      "Epoch 440, Testing accuracy: 36.50%\n",
      "Epoch 450, Testing accuracy: 36.62%\n",
      "Epoch 460, Testing accuracy: 36.96%\n",
      "Epoch 470, Testing accuracy: 37.95%\n",
      "Epoch 480, Testing accuracy: 37.24%\n",
      "Epoch 490, Testing accuracy: 38.05%\n"
     ]
    }
   ],
   "source": [
    "# optimizer = torch.optim.SGD(logreg.parameters(), lr=3e-4)\n",
    "# criterion = torch.nn.CrossEntropyLoss()\n",
    "\n",
    "optimizer = torch.optim.SGD(logreg.parameters(), lr=0.03, momentum=0.9, weight_decay=1e-4)\n",
    "scheduler = torch.optim.lr_scheduler.CosineAnnealingLR(optimizer, T_max=200)  # T_max = number of epochs\n",
    "\n",
    "eval_every_n_epochs = 10\n",
    "\n",
    "\n",
    "train_losses = []\n",
    "test_accuracies = []\n",
    "\n",
    "\n",
    "for epoch in range(500):\n",
    "    epoch_loss = 0\n",
    "    logreg.train()\n",
    "#     train_acc = []\n",
    "    for x, y in train_loader:\n",
    "\n",
    "        x = x.to(device)\n",
    "        y = y.to(device)\n",
    "        \n",
    "        # zero the parameter gradients\n",
    "        optimizer.zero_grad()        \n",
    "        \n",
    "        logits = logreg(x)\n",
    "        predictions = torch.argmax(logits, dim=1)\n",
    "        \n",
    "        loss = criterion(logits, y)\n",
    "        \n",
    "        loss.backward()\n",
    "        optimizer.step()\n",
    "\n",
    "        epoch_loss += loss.item()\n",
    "\n",
    "    train_losses.append(epoch_loss / len(train_loader))\n",
    "    \n",
    "    scheduler.step()\n",
    "    \n",
    "    if epoch % eval_every_n_epochs == 0:\n",
    "        logreg.eval()\n",
    "        correct = 0\n",
    "        total = 0\n",
    "        for x, y in test_loader:\n",
    "            x = x.to(device)\n",
    "            y = y.to(device)\n",
    "\n",
    "            logits = logreg(x)\n",
    "            predictions = torch.argmax(logits, dim=1)\n",
    "            \n",
    "            total += y.size(0)\n",
    "            correct += (predictions == y).sum().item()\n",
    "            \n",
    "        acc = 100 * correct / total\n",
    "        test_accuracies.append(acc)\n",
    "        print(f\"Epoch {epoch}, Testing accuracy: {acc:.2f}%\")\n"
   ]
  },
  {
   "cell_type": "code",
   "execution_count": null,
   "metadata": {},
   "outputs": [],
   "source": [
    "optimizer = torch.optim.Adam(logreg.parameters(), lr=3e-4)\n",
    "criterion = torch.nn.CrossEntropyLoss()\n",
    "eval_every_n_epochs = 10\n",
    "\n",
    "for epoch in range(200):\n",
    "#     train_acc = []\n",
    "    for x, y in train_loader:\n",
    "\n",
    "        x = x.to(device)\n",
    "        y = y.to(device)\n",
    "\n",
    "        # zero the parameter gradients\n",
    "        optimizer.zero_grad()\n",
    "\n",
    "        logits = logreg(x)\n",
    "        predictions = torch.argmax(logits, dim=1)\n",
    "\n",
    "        loss = criterion(logits, y)\n",
    "\n",
    "        loss.backward()\n",
    "        optimizer.step()\n",
    "\n",
    "    total = 0\n",
    "    if epoch % eval_every_n_epochs == 0:\n",
    "        correct = 0\n",
    "        for x, y in test_loader:\n",
    "            x = x.to(device)\n",
    "            y = y.to(device)\n",
    "\n",
    "            logits = logreg(x)\n",
    "            predictions = torch.argmax(logits, dim=1)\n",
    "\n",
    "            total += y.size(0)\n",
    "            correct += (predictions == y).sum().item()\n",
    "\n",
    "        acc = 100 * correct / total\n",
    "        print(f\"Testing accuracy: {np.mean(acc)}\")"
   ]
  },
  {
   "cell_type": "code",
   "execution_count": null,
   "metadata": {},
   "outputs": [],
   "source": [
    "import matplotlib.pyplot as plt"
   ]
  },
  {
   "cell_type": "code",
   "execution_count": null,
   "metadata": {},
   "outputs": [],
   "source": [
    "# Plotting the training loss\n",
    "plt.figure(figsize=(10, 5))\n",
    "plt.subplot(1, 2, 1)\n",
    "plt.plot(range(0, 200, eval_every_n_epochs), train_losses, label='Training Loss')\n",
    "plt.xlabel('Epoch')\n",
    "plt.ylabel('Loss')\n",
    "plt.title('Training Loss over Epochs')\n",
    "plt.grid(True)\n",
    "\n",
    "# Show plots\n",
    "plt.tight_layout()\n",
    "plt.show()"
   ]
  },
  {
   "cell_type": "code",
   "execution_count": null,
   "metadata": {},
   "outputs": [],
   "source": [
    "# Plotting the test accuracy\n",
    "plt.subplot(1, 2, 2)\n",
    "plt.plot(range(0, 200, eval_every_n_epochs), test_accuracies, label='Test Accuracy', color='orange')\n",
    "plt.xlabel('Epoch')\n",
    "plt.ylabel('Accuracy (%)')\n",
    "plt.title('Test Accuracy over Epochs')\n",
    "plt.grid(True)\n",
    "\n",
    "# Show plots\n",
    "plt.tight_layout()\n",
    "plt.show()"
   ]
  },
  {
   "cell_type": "code",
   "execution_count": null,
   "metadata": {},
   "outputs": [],
   "source": []
  }
 ],
 "metadata": {
  "kernelspec": {
   "display_name": "torch_241_cu118",
   "language": "python",
   "name": "python3"
  },
  "language_info": {
   "codemirror_mode": {
    "name": "ipython",
    "version": 3
   },
   "file_extension": ".py",
   "mimetype": "text/x-python",
   "name": "python",
   "nbconvert_exporter": "python",
   "pygments_lexer": "ipython3",
   "version": "3.10.14"
  }
 },
 "nbformat": 4,
 "nbformat_minor": 2
}
