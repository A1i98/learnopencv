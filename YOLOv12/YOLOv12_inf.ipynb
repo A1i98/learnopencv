{
 "cells": [
  {
   "cell_type": "code",
   "execution_count": null,
   "id": "1f5eb599",
   "metadata": {},
   "outputs": [],
   "source": [
    "!conda create -n env_name python=3.11 #create your environment to avoid any kind of dependency mismatch issue"
   ]
  },
  {
   "cell_type": "code",
   "execution_count": null,
   "id": "912927ba",
   "metadata": {},
   "outputs": [],
   "source": [
    "!git clone https://github.com/sunsmarterjie/yolov12 #cloning YOLOv12 from it's official repo\n",
    "!cd yolov12"
   ]
  },
  {
   "cell_type": "code",
   "execution_count": null,
   "id": "ed4edd3b",
   "metadata": {},
   "outputs": [],
   "source": [
    "!wget https://github.com/Dao-AILab/flash-attention/releases/download/v2.7.3/flash_attn-2.7.3+cu11torch2.2cxx11abiFALSE-cp311-cp311-linux_x86_64.whl #for installing flash-attention"
   ]
  },
  {
   "cell_type": "code",
   "execution_count": null,
   "id": "7dae5a4a",
   "metadata": {},
   "outputs": [],
   "source": [
    "!pip install -r requirements.txt #installing all the required dependencies\n",
    "!pip install -e ."
   ]
  },
  {
   "cell_type": "markdown",
   "id": "cf60a6bf",
   "metadata": {},
   "source": [
    "## CLI commands for running YOLOv12 locally "
   ]
  },
  {
   "cell_type": "code",
   "execution_count": null,
   "id": "d511d0cf",
   "metadata": {},
   "outputs": [],
   "source": [
    "!yolo detect predict model=yolo12n.pt source='your_image_path_here'"
   ]
  },
  {
   "cell_type": "code",
   "execution_count": 17,
   "id": "e69cc1cc-daa7-4e35-9894-a88afb5125e5",
   "metadata": {},
   "outputs": [],
   "source": [
    "from ultralytics import YOLO\n",
    "import cv2\n",
    "import matplotlib.pyplot as plt\n",
    "model = YOLO('yolov12m.pt')"
   ]
  },
  {
   "cell_type": "code",
   "execution_count": 14,
   "id": "dd95bf37-0e62-484b-b27e-a752acf6c1b5",
   "metadata": {},
   "outputs": [],
   "source": [
    "def prediction(model_type, img_path, display_result = True, task : str = None):\n",
    "\n",
    "    model = YOLO(model_type)\n",
    "    result = model(img_path, save = True, conf=0.5)\n",
    "    # print(r.save_dir)\n",
    "\n",
    "    for r in result:\n",
    "        pred_img_path = f\"{r.save_dir}/{img_path}\"\n",
    "        pred = cv2.cvtColor(cv2.imread(pred_img_path), cv2.COLOR_BGR2RGB)\n",
    "        plt.imshow(pred)\n",
    "        plt.axis('off')\n",
    "        plt.title(f\"YOLO11 - {task}\")\n",
    "    plt.show()\n",
    "\n",
    "    # To print the results\n",
    "    if display_result:\n",
    "       print(result)"
   ]
  },
  {
   "cell_type": "code",
   "execution_count": null,
   "id": "ba638fe1-ebc1-4a27-afcf-16de4c55ee0c",
   "metadata": {},
   "outputs": [],
   "source": [
    "prediction(model_type = \"yolov12{n/s/m/l/x}.pt\", img_path = \"your_image_path_here\")"
   ]
  },
  {
   "cell_type": "code",
   "execution_count": null,
   "id": "44ef3b5b-26e3-46ee-8202-3d1a6cdfaf3b",
   "metadata": {},
   "outputs": [],
   "source": []
  }
 ],
 "metadata": {
  "kernelspec": {
   "display_name": "its_ai",
   "language": "python",
   "name": "python3"
  },
  "language_info": {
   "codemirror_mode": {
    "name": "ipython",
    "version": 3
   },
   "file_extension": ".py",
   "mimetype": "text/x-python",
   "name": "python",
   "nbconvert_exporter": "python",
   "pygments_lexer": "ipython3",
   "version": "3.13.2"
  }
 },
 "nbformat": 4,
 "nbformat_minor": 5
}
